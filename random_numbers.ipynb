{
 "cells": [
  {
   "cell_type": "code",
   "execution_count": 13,
   "metadata": {},
   "outputs": [],
   "source": [
    "import numpy as np\n",
    "import timeit"
   ]
  },
  {
   "cell_type": "code",
   "execution_count": 15,
   "metadata": {},
   "outputs": [
    {
     "data": {
      "text/plain": [
       "array([  3.95635299,  32.03697945,  54.30947739, -70.15172186,\n",
       "        49.48193874,  26.5955013 ,  -4.30536173, -35.13774685,\n",
       "        66.63063585, -84.30514351,  89.35742895, -74.617658  ,\n",
       "       -26.2584548 , -74.55921344,  22.97272106,  85.123939  ,\n",
       "        73.91595781,  -3.43247385,  26.47264457,  -5.60810052,\n",
       "        76.55688241, -72.43131688, -49.63339683,  13.37548643,\n",
       "        78.11538919,  51.88654016,   2.3319288 ,  40.76869772,\n",
       "        10.05103899,  -9.875156  , -30.53881106, -31.68173133,\n",
       "       -53.85942959,  31.5524208 ,  67.55621207,  72.54839623,\n",
       "        88.07569644, -67.97745772, -70.8348285 ,  25.15039957,\n",
       "       -10.62377112,  24.93871264, -49.71867624,  75.54246431,\n",
       "       -20.1841031 ,  58.5156078 , -40.51753489, -43.62710011,\n",
       "         8.62807454,  85.74460981])"
      ]
     },
     "execution_count": 15,
     "metadata": {},
     "output_type": "execute_result"
    }
   ],
   "source": [
    "np.random.uniform(-90.000, 90.000, size=50)"
   ]
  },
  {
   "cell_type": "code",
   "execution_count": 16,
   "metadata": {},
   "outputs": [
    {
     "name": "stdout",
     "output_type": "stream",
     "text": [
      "20.8 µs ± 1.71 µs per loop (mean ± std. dev. of 7 runs, 10000 loops each)\n"
     ]
    }
   ],
   "source": [
    "%timeit np.random.uniform(-90.000, 90.000, size=1500)"
   ]
  },
  {
   "cell_type": "code",
   "execution_count": 18,
   "metadata": {},
   "outputs": [
    {
     "name": "stdout",
     "output_type": "stream",
     "text": [
      "1.98 ms ± 60.4 µs per loop (mean ± std. dev. of 7 runs, 100 loops each)\n"
     ]
    }
   ],
   "source": [
    "def latitudes(size):\n",
    "    latitudes = []\n",
    "    x = 0\n",
    "    for i in range(0, size):\n",
    "        random_lat = random.randint(-90, 90) + random.random()\n",
    "        latitudes.append(random_lat)\n",
    "    return latitudes\n",
    "# Call the function with 1500. \n",
    "%timeit latitudes(1500)\n"
   ]
  },
  {
   "cell_type": "code",
   "execution_count": null,
   "metadata": {},
   "outputs": [],
   "source": []
  }
 ],
 "metadata": {
  "kernelspec": {
   "display_name": "PythonData",
   "language": "python",
   "name": "pythondata"
  },
  "language_info": {
   "codemirror_mode": {
    "name": "ipython",
    "version": 3
   },
   "file_extension": ".py",
   "mimetype": "text/x-python",
   "name": "python",
   "nbconvert_exporter": "python",
   "pygments_lexer": "ipython3",
   "version": "3.7.4"
  }
 },
 "nbformat": 4,
 "nbformat_minor": 4
}
