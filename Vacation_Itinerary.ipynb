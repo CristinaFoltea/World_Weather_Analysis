{
 "cells": [
  {
   "cell_type": "code",
   "execution_count": 1,
   "metadata": {},
   "outputs": [],
   "source": [
    "# Import the dependencies.\n",
    "import pandas as pd\n",
    "import gmaps\n",
    "import requests\n",
    "from config import g_key\n",
    "gmaps.configure(api_key=g_key)"
   ]
  },
  {
   "cell_type": "code",
   "execution_count": 2,
   "metadata": {},
   "outputs": [
    {
     "data": {
      "text/html": [
       "<div>\n",
       "<style scoped>\n",
       "    .dataframe tbody tr th:only-of-type {\n",
       "        vertical-align: middle;\n",
       "    }\n",
       "\n",
       "    .dataframe tbody tr th {\n",
       "        vertical-align: top;\n",
       "    }\n",
       "\n",
       "    .dataframe thead th {\n",
       "        text-align: right;\n",
       "    }\n",
       "</style>\n",
       "<table border=\"1\" class=\"dataframe\">\n",
       "  <thead>\n",
       "    <tr style=\"text-align: right;\">\n",
       "      <th></th>\n",
       "      <th>City_ID</th>\n",
       "      <th>City</th>\n",
       "      <th>Country</th>\n",
       "      <th>Max Temp</th>\n",
       "      <th>Current Description</th>\n",
       "      <th>Lat</th>\n",
       "      <th>Lng</th>\n",
       "      <th>Hotel Name</th>\n",
       "    </tr>\n",
       "  </thead>\n",
       "  <tbody>\n",
       "    <tr>\n",
       "      <th>0</th>\n",
       "      <td>1</td>\n",
       "      <td>Hermanus</td>\n",
       "      <td>ZA</td>\n",
       "      <td>65.71</td>\n",
       "      <td>clear sky</td>\n",
       "      <td>-34.42</td>\n",
       "      <td>19.23</td>\n",
       "      <td>Misty Waves Boutique Hotel</td>\n",
       "    </tr>\n",
       "    <tr>\n",
       "      <th>1</th>\n",
       "      <td>2</td>\n",
       "      <td>Castro</td>\n",
       "      <td>BR</td>\n",
       "      <td>67.93</td>\n",
       "      <td>overcast clouds</td>\n",
       "      <td>-24.79</td>\n",
       "      <td>-50.01</td>\n",
       "      <td>CHACARA BAILLY</td>\n",
       "    </tr>\n",
       "    <tr>\n",
       "      <th>2</th>\n",
       "      <td>5</td>\n",
       "      <td>Buraydah</td>\n",
       "      <td>SA</td>\n",
       "      <td>68.00</td>\n",
       "      <td>scattered clouds</td>\n",
       "      <td>26.33</td>\n",
       "      <td>43.98</td>\n",
       "      <td>Mövenpick Hotel Qassim</td>\n",
       "    </tr>\n",
       "    <tr>\n",
       "      <th>3</th>\n",
       "      <td>7</td>\n",
       "      <td>Airai</td>\n",
       "      <td>TL</td>\n",
       "      <td>66.69</td>\n",
       "      <td>clear sky</td>\n",
       "      <td>-8.93</td>\n",
       "      <td>125.41</td>\n",
       "      <td>Juvinal Martin</td>\n",
       "    </tr>\n",
       "    <tr>\n",
       "      <th>4</th>\n",
       "      <td>17</td>\n",
       "      <td>Cape Town</td>\n",
       "      <td>ZA</td>\n",
       "      <td>66.99</td>\n",
       "      <td>clear sky</td>\n",
       "      <td>-33.93</td>\n",
       "      <td>18.42</td>\n",
       "      <td>Southern Sun Waterfront Cape Town</td>\n",
       "    </tr>\n",
       "  </tbody>\n",
       "</table>\n",
       "</div>"
      ],
      "text/plain": [
       "   City_ID       City Country  Max Temp Current Description    Lat     Lng  \\\n",
       "0        1   Hermanus      ZA     65.71           clear sky -34.42   19.23   \n",
       "1        2     Castro      BR     67.93     overcast clouds -24.79  -50.01   \n",
       "2        5   Buraydah      SA     68.00    scattered clouds  26.33   43.98   \n",
       "3        7      Airai      TL     66.69           clear sky  -8.93  125.41   \n",
       "4       17  Cape Town      ZA     66.99           clear sky -33.93   18.42   \n",
       "\n",
       "                          Hotel Name  \n",
       "0         Misty Waves Boutique Hotel  \n",
       "1                     CHACARA BAILLY  \n",
       "2             Mövenpick Hotel Qassim  \n",
       "3                     Juvinal Martin  \n",
       "4  Southern Sun Waterfront Cape Town  "
      ]
     },
     "execution_count": 2,
     "metadata": {},
     "output_type": "execute_result"
    }
   ],
   "source": [
    "# Import the WeatherPy_vacation.csv\n",
    "city_data_df = pd.read_csv(\"data/WeatherPy_vacation.csv\")\n",
    "city_data_df.head()"
   ]
  },
  {
   "cell_type": "code",
   "execution_count": 3,
   "metadata": {},
   "outputs": [
    {
     "data": {
      "text/plain": [
       "(-24.01, -48.35)"
      ]
     },
     "execution_count": 3,
     "metadata": {},
     "output_type": "execute_result"
    }
   ],
   "source": [
    "dest_one_df = city_data_df.loc[city_data_df[\"City\"] == \"Capao Bonito\"]\n",
    "dest_one_coord = tuple(dest_one_df[[\"Lat\", \"Lng\"]].iloc[0])\n",
    "dest_one_coord"
   ]
  },
  {
   "cell_type": "code",
   "execution_count": 4,
   "metadata": {},
   "outputs": [
    {
     "data": {
      "text/plain": [
       "(-22.09, -70.2)"
      ]
     },
     "execution_count": 4,
     "metadata": {},
     "output_type": "execute_result"
    }
   ],
   "source": [
    "dest_two_df = city_data_df.loc[city_data_df[\"City\"] == \"Tocopilla\"]\n",
    "dest_two_coord = tuple(dest_two_df[[\"Lat\", \"Lng\"]].iloc[0])\n",
    "dest_two_coord"
   ]
  },
  {
   "cell_type": "code",
   "execution_count": 5,
   "metadata": {},
   "outputs": [
    {
     "data": {
      "text/plain": [
       "(-29.95, -71.34)"
      ]
     },
     "execution_count": 5,
     "metadata": {},
     "output_type": "execute_result"
    }
   ],
   "source": [
    "waypoint_df = city_data_df.loc[city_data_df[\"City\"] == \"Coquimbo\"]\n",
    "waypoint_coord = tuple(waypoint_df[[\"Lat\", \"Lng\"]].iloc[0])\n",
    "waypoint_coord"
   ]
  },
  {
   "cell_type": "code",
   "execution_count": 6,
   "metadata": {},
   "outputs": [
    {
     "data": {
      "text/plain": [
       "(-45.58, -72.07)"
      ]
     },
     "execution_count": 6,
     "metadata": {},
     "output_type": "execute_result"
    }
   ],
   "source": [
    "dest_three_df = city_data_df.loc[city_data_df[\"City\"] == \"Coihaique\"]\n",
    "dest_three_coord = tuple(dest_three_df[[\"Lat\", \"Lng\"]].iloc[0])\n",
    "dest_three_coord"
   ]
  },
  {
   "cell_type": "code",
   "execution_count": 7,
   "metadata": {},
   "outputs": [
    {
     "data": {
      "text/plain": [
       "(-24.79, -50.01)"
      ]
     },
     "execution_count": 7,
     "metadata": {},
     "output_type": "execute_result"
    }
   ],
   "source": [
    "dest_four_df = city_data_df.loc[city_data_df[\"City\"] == \"Castro\"]\n",
    "dest_four_coord = tuple(dest_four_df[[\"Lat\", \"Lng\"]].iloc[0])\n",
    "dest_four_coord"
   ]
  },
  {
   "cell_type": "code",
   "execution_count": 8,
   "metadata": {},
   "outputs": [
    {
     "data": {
      "text/html": [
       "<div>\n",
       "<style scoped>\n",
       "    .dataframe tbody tr th:only-of-type {\n",
       "        vertical-align: middle;\n",
       "    }\n",
       "\n",
       "    .dataframe tbody tr th {\n",
       "        vertical-align: top;\n",
       "    }\n",
       "\n",
       "    .dataframe thead th {\n",
       "        text-align: right;\n",
       "    }\n",
       "</style>\n",
       "<table border=\"1\" class=\"dataframe\">\n",
       "  <thead>\n",
       "    <tr style=\"text-align: right;\">\n",
       "      <th></th>\n",
       "      <th>City_ID</th>\n",
       "      <th>City</th>\n",
       "      <th>Country</th>\n",
       "      <th>Max Temp</th>\n",
       "      <th>Current Description</th>\n",
       "      <th>Lat</th>\n",
       "      <th>Lng</th>\n",
       "      <th>Hotel Name</th>\n",
       "    </tr>\n",
       "  </thead>\n",
       "  <tbody>\n",
       "    <tr>\n",
       "      <th>36</th>\n",
       "      <td>526</td>\n",
       "      <td>Capao Bonito</td>\n",
       "      <td>BR</td>\n",
       "      <td>65.19</td>\n",
       "      <td>broken clouds</td>\n",
       "      <td>-24.01</td>\n",
       "      <td>-48.35</td>\n",
       "      <td>HOTEL PASSARIM</td>\n",
       "    </tr>\n",
       "    <tr>\n",
       "      <th>33</th>\n",
       "      <td>491</td>\n",
       "      <td>Tocopilla</td>\n",
       "      <td>CL</td>\n",
       "      <td>69.71</td>\n",
       "      <td>clear sky</td>\n",
       "      <td>-22.09</td>\n",
       "      <td>-70.20</td>\n",
       "      <td>Hotel Galvarino</td>\n",
       "    </tr>\n",
       "    <tr>\n",
       "      <th>31</th>\n",
       "      <td>465</td>\n",
       "      <td>Coquimbo</td>\n",
       "      <td>CL</td>\n",
       "      <td>66.20</td>\n",
       "      <td>scattered clouds</td>\n",
       "      <td>-29.95</td>\n",
       "      <td>-71.34</td>\n",
       "      <td>Hotel San Juan</td>\n",
       "    </tr>\n",
       "    <tr>\n",
       "      <th>8</th>\n",
       "      <td>72</td>\n",
       "      <td>Coihaique</td>\n",
       "      <td>CL</td>\n",
       "      <td>66.20</td>\n",
       "      <td>broken clouds</td>\n",
       "      <td>-45.58</td>\n",
       "      <td>-72.07</td>\n",
       "      <td>Diego De Almagro Coyhaique</td>\n",
       "    </tr>\n",
       "    <tr>\n",
       "      <th>1</th>\n",
       "      <td>2</td>\n",
       "      <td>Castro</td>\n",
       "      <td>BR</td>\n",
       "      <td>67.93</td>\n",
       "      <td>overcast clouds</td>\n",
       "      <td>-24.79</td>\n",
       "      <td>-50.01</td>\n",
       "      <td>CHACARA BAILLY</td>\n",
       "    </tr>\n",
       "  </tbody>\n",
       "</table>\n",
       "</div>"
      ],
      "text/plain": [
       "    City_ID          City Country  Max Temp Current Description    Lat    Lng  \\\n",
       "36      526  Capao Bonito      BR     65.19       broken clouds -24.01 -48.35   \n",
       "33      491     Tocopilla      CL     69.71           clear sky -22.09 -70.20   \n",
       "31      465      Coquimbo      CL     66.20    scattered clouds -29.95 -71.34   \n",
       "8        72     Coihaique      CL     66.20       broken clouds -45.58 -72.07   \n",
       "1         2        Castro      BR     67.93     overcast clouds -24.79 -50.01   \n",
       "\n",
       "                    Hotel Name  \n",
       "36              HOTEL PASSARIM  \n",
       "33             Hotel Galvarino  \n",
       "31              Hotel San Juan  \n",
       "8   Diego De Almagro Coyhaique  \n",
       "1               CHACARA BAILLY  "
      ]
     },
     "execution_count": 8,
     "metadata": {},
     "output_type": "execute_result"
    }
   ],
   "source": [
    "travel_cities_df = pd.concat([dest_one_df, dest_two_df, waypoint_df, dest_three_df, dest_four_df], axis=0)\n",
    "travel_cities_df"
   ]
  },
  {
   "cell_type": "code",
   "execution_count": 9,
   "metadata": {},
   "outputs": [],
   "source": [
    "info_box_template = \"\"\"\n",
    "<dl>\n",
    "<dt>Hotel Name</dt><dd>{Hotel Name}</dd>\n",
    "<dt>City</dt><dd>{City}</dd>\n",
    "<dt>Country</dt><dd>{Country}</dd>\n",
    "<dt>Curent Weather</dt><dd>{Current Description} and {Max Temp} °F</dd>\n",
    "</dl>\n",
    "\"\"\"\n",
    "# Store the DataFrame Row.\n",
    "hotel_info = [info_box_template.format(**row) for index, row in travel_cities_df.iterrows()]"
   ]
  },
  {
   "cell_type": "code",
   "execution_count": 10,
   "metadata": {},
   "outputs": [
    {
     "data": {
      "application/vnd.jupyter.widget-view+json": {
       "model_id": "103db223142b4798aefed1704f5e62f1",
       "version_major": 2,
       "version_minor": 0
      },
      "text/plain": [
       "Figure(layout=FigureLayout(height='420px'))"
      ]
     },
     "metadata": {},
     "output_type": "display_data"
    }
   ],
   "source": [
    "# Creating direction maps\n",
    "fig = gmaps.figure()\n",
    "\n",
    "# Add direction layer\n",
    "dir_layer_one = gmaps.directions_layer(dest_one_coord, dest_two_coord, travel_mode=\"DRIVING\")\n",
    "fig.add_layer(dir_layer_one)\n",
    "dir_layer_two = gmaps.directions_layer(dest_two_coord, dest_three_coord, waypoints=[waypoint_coord], travel_mode='DRIVING')\n",
    "fig.add_layer(dir_layer_two)\n",
    "dir_layer_three = gmaps.directions_layer(dest_three_coord, dest_four_coord, travel_mode='DRIVING')\n",
    "fig.add_layer(dir_layer_three)\n",
    "\n",
    "fig\n"
   ]
  },
  {
   "cell_type": "code",
   "execution_count": 11,
   "metadata": {},
   "outputs": [
    {
     "data": {
      "application/vnd.jupyter.widget-view+json": {
       "model_id": "6de5bb6447e94b22b0b9fab79f91e3bb",
       "version_major": 2,
       "version_minor": 0
      },
      "text/plain": [
       "Figure(layout=FigureLayout(height='420px'))"
      ]
     },
     "metadata": {},
     "output_type": "display_data"
    }
   ],
   "source": [
    "# Creating marker maps\n",
    "fig = gmaps.figure()\n",
    "locations = travel_cities_df[[\"Lat\", \"Lng\"]]\n",
    "fig = gmaps.figure()\n",
    "marker_layer = gmaps.marker_layer(locations, info_box_content=hotel_info)\n",
    "fig.add_layer(marker_layer)\n",
    "fig"
   ]
  },
  {
   "cell_type": "code",
   "execution_count": null,
   "metadata": {},
   "outputs": [],
   "source": []
  }
 ],
 "metadata": {
  "kernelspec": {
   "display_name": "Python 3",
   "language": "python",
   "name": "python3"
  },
  "language_info": {
   "codemirror_mode": {
    "name": "ipython",
    "version": 3
   },
   "file_extension": ".py",
   "mimetype": "text/x-python",
   "name": "python",
   "nbconvert_exporter": "python",
   "pygments_lexer": "ipython3",
   "version": "3.7.6"
  }
 },
 "nbformat": 4,
 "nbformat_minor": 4
}
